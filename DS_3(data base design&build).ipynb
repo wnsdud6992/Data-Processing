{
 "cells": [
  {
   "cell_type": "markdown",
   "metadata": {},
   "source": [
    "# DS-practice[3] Database Design & Build\n",
    "\n",
    "[학습목표] <b><span style=\"color:blue\"> 데이터베이스를 설계하고 구축할 수 있다. </span></b>\n",
    "\n",
    "- <b>Database</b> building\n",
    "    - ACCESS DB\n",
    "    - INSERT DB\n",
    "    - SELECT DB"
   ]
  },
  {
   "cell_type": "markdown",
   "metadata": {},
   "source": [
    "1) <b>ACCESS DB</b>"
   ]
  },
  {
   "cell_type": "code",
   "execution_count": 1,
   "metadata": {},
   "outputs": [],
   "source": [
    "SERVER_IP = \"202.30.31.17\"\n",
    "DB_NAME = \"\""
   ]
  },
  {
   "cell_type": "code",
   "execution_count": 2,
   "metadata": {},
   "outputs": [],
   "source": [
    "import logging\n",
    "import pymysql\n",
    "\n",
    "import socket\n",
    "\n",
    "def _CheckIP():\n",
    "    return socket.gethostbyname(socket.gethostname()) == SERVER_IP\n",
    "\n",
    "def _getHostName():    \n",
    "    if _CheckIP():\n",
    "        return \"localhost\"\n",
    "    else:\n",
    "        return SERVER_IP\n",
    "        \n",
    "def connectDb(user, password):\n",
    "    host = _getHostName()\n",
    "\n",
    "    try:\n",
    "        return pymysql.connect(host = host, user = user, password = password, db = DB_NAME, charset=\"utf8\")\n",
    "    except:\n",
    "        logging.error(\"Check DB info\")\n",
    "        logging.error(\"user : \" + user + \", password : \" + password)        "
   ]
  },
  {
   "cell_type": "code",
   "execution_count": null,
   "metadata": {},
   "outputs": [],
   "source": []
  },
  {
   "cell_type": "markdown",
   "metadata": {},
   "source": [
    "2) <b>INSERT DB</b>"
   ]
  },
  {
   "cell_type": "code",
   "execution_count": 3,
   "metadata": {},
   "outputs": [],
   "source": [
    "import pandas as pd\n",
    "\n",
    "data = pd.read_csv(\"dataset/dbACC.csv\")\n",
    "tupleData = [tuple(x) for x in data.values]"
   ]
  },
  {
   "cell_type": "code",
   "execution_count": null,
   "metadata": {},
   "outputs": [],
   "source": []
  },
  {
   "cell_type": "markdown",
   "metadata": {},
   "source": [
    "3) <b>SELECT DB</b>"
   ]
  },
  {
   "cell_type": "code",
   "execution_count": 5,
   "metadata": {},
   "outputs": [
    {
     "name": "stdout",
     "output_type": "stream",
     "text": [
      "((4, 3, -0.2119, -0.4819, 0.3806), (5, 4, -0.2148, -0.4812, 0.3823))\n"
     ]
    }
   ],
   "source": [
    "conn = connectDb(\"std202177777\", \"202177777\")\n",
    "cur = conn.cursor()\n",
    "\n",
    "query = \"\"\n",
    "\n",
    "cur.execute(query)\n",
    "result = cur.fetchall()\n",
    "print(result)"
   ]
  },
  {
   "cell_type": "code",
   "execution_count": null,
   "metadata": {},
   "outputs": [],
   "source": []
  }
 ],
 "metadata": {
  "kernelspec": {
   "display_name": "Python 3",
   "language": "python",
   "name": "python3"
  },
  "language_info": {
   "codemirror_mode": {
    "name": "ipython",
    "version": 3
   },
   "file_extension": ".py",
   "mimetype": "text/x-python",
   "name": "python",
   "nbconvert_exporter": "python",
   "pygments_lexer": "ipython3",
   "version": "3.7.6"
  }
 },
 "nbformat": 4,
 "nbformat_minor": 4
}
