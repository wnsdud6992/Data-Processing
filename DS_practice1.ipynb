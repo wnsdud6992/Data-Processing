{
 "cells": [
  {
   "cell_type": "markdown",
   "metadata": {},
   "source": [
    "# DS-practice[1] Understanding Experimental Data\n",
    "\n",
    "[학습목표] <b><span style=\"color:blue\"> <u>Raw Data</u>의 특성을 이해할 수 있다. </span></b>\n",
    "\n",
    "- <b>Text</b> File Processing\n",
    "    - File Format: <I> .txt </I>\n",
    "\n",
    "\n",
    "\n",
    "- <b>CSV</b> File Processing\n",
    "    - File Format: <I> .csv </I>\n",
    " \n",
    " \n",
    " \n",
    "- <b>JSON</b> File Processing\n",
    "    - File Format: <I> .json </I>\n",
    "  \n",
    "  \n",
    "  \n",
    "- <b>XML</b> File Processing\n",
    "    - File Format: <I> .xml </I>"
   ]
  },
  {
   "cell_type": "markdown",
   "metadata": {},
   "source": [
    "## 1) TEXT File Processing\n",
    "\n",
    "- Example: Temperature Data"
   ]
  },
  {
   "cell_type": "code",
   "execution_count": null,
   "metadata": {},
   "outputs": [],
   "source": []
  },
  {
   "cell_type": "markdown",
   "metadata": {},
   "source": [
    "## 2) CSV File Processing\n",
    "\n",
    "- Example: Accelerator Data"
   ]
  },
  {
   "cell_type": "code",
   "execution_count": null,
   "metadata": {},
   "outputs": [],
   "source": []
  },
  {
   "cell_type": "markdown",
   "metadata": {},
   "source": [
    "## 3) JSON File Processing\n",
    "\n",
    "- Example: COVID-19 Data (COVID-19_json_210304.json)"
   ]
  },
  {
   "cell_type": "code",
   "execution_count": null,
   "metadata": {},
   "outputs": [],
   "source": []
  },
  {
   "cell_type": "markdown",
   "metadata": {},
   "source": [
    "## 4) XML File Processing\n",
    "\n",
    "- Example: COVID-19 Data (COVID-19_xml_210304.xml)"
   ]
  },
  {
   "cell_type": "code",
   "execution_count": null,
   "metadata": {},
   "outputs": [],
   "source": []
  }
 ],
 "metadata": {
  "kernelspec": {
   "display_name": "Python 3",
   "language": "python",
   "name": "python3"
  },
  "language_info": {
   "codemirror_mode": {
    "name": "ipython",
    "version": 3
   },
   "file_extension": ".py",
   "mimetype": "text/x-python",
   "name": "python",
   "nbconvert_exporter": "python",
   "pygments_lexer": "ipython3",
   "version": "3.6.8"
  }
 },
 "nbformat": 4,
 "nbformat_minor": 2
}
